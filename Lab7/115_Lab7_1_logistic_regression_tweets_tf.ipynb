{
  "nbformat": 4,
  "nbformat_minor": 0,
  "metadata": {
    "colab": {
      "name": "115_Lab7_1_logistic_regression_tweets_tf.ipynb",
      "provenance": []
    },
    "kernelspec": {
      "name": "python3",
      "display_name": "Python 3"
    },
    "language_info": {
      "name": "python"
    }
  },
  "cells": [
    {
      "cell_type": "code",
      "metadata": {
        "colab": {
          "base_uri": "https://localhost:8080/"
        },
        "id": "hexmU-Aedhlf",
        "outputId": "9b820f62-33c9-40a1-f296-0ea594ab83c1"
      },
      "source": [
        "import nltk\n",
        "from nltk.corpus import twitter_samples \n",
        "import pandas as pd\n",
        "from sklearn.model_selection import train_test_split\n",
        "import tensorflow.compat.v1 as tf\n",
        "tf.disable_v2_behavior()"
      ],
      "execution_count": 1,
      "outputs": [
        {
          "output_type": "stream",
          "name": "stdout",
          "text": [
            "WARNING:tensorflow:From /usr/local/lib/python3.7/dist-packages/tensorflow/python/compat/v2_compat.py:101: disable_resource_variables (from tensorflow.python.ops.variable_scope) is deprecated and will be removed in a future version.\n",
            "Instructions for updating:\n",
            "non-resource variables are not supported in the long term\n"
          ]
        }
      ]
    },
    {
      "cell_type": "code",
      "metadata": {
        "colab": {
          "base_uri": "https://localhost:8080/"
        },
        "id": "GxuVDbDbdzIx",
        "outputId": "6fb681b4-84ac-4ad2-f579-7e4d5ee7eeea"
      },
      "source": [
        "nltk.download('twitter_samples')\n",
        "nltk.download('stopwords')"
      ],
      "execution_count": 2,
      "outputs": [
        {
          "output_type": "stream",
          "name": "stdout",
          "text": [
            "[nltk_data] Downloading package twitter_samples to /root/nltk_data...\n",
            "[nltk_data]   Unzipping corpora/twitter_samples.zip.\n",
            "[nltk_data] Downloading package stopwords to /root/nltk_data...\n",
            "[nltk_data]   Unzipping corpora/stopwords.zip.\n"
          ]
        },
        {
          "output_type": "execute_result",
          "data": {
            "text/plain": [
              "True"
            ]
          },
          "metadata": {},
          "execution_count": 2
        }
      ]
    },
    {
      "cell_type": "code",
      "metadata": {
        "id": "nkyCFyp9d4kL"
      },
      "source": [
        "import re\n",
        "import string\n",
        "import numpy as np\n",
        "\n",
        "from nltk.corpus import stopwords\n",
        "from nltk.stem import PorterStemmer\n",
        "from nltk.tokenize import TweetTokenizer"
      ],
      "execution_count": 3,
      "outputs": []
    },
    {
      "cell_type": "code",
      "metadata": {
        "id": "mWExBxg1d9xF"
      },
      "source": [
        "#process_tweet(): cleans the text, tokenizes it into separate words, removes stopwords, and converts words to stems.\n",
        "def process_tweet(tweet):\n",
        "    \"\"\"Process tweet function.\n",
        "    Input:\n",
        "        tweet: a string containing a tweet\n",
        "    Output:\n",
        "        tweets_clean: a list of words containing the processed tweet\n",
        "\n",
        "    \"\"\"\n",
        "    stemmer = PorterStemmer()\n",
        "    stopwords_english = stopwords.words('english')\n",
        "\n",
        "    # remove stock market tickers like $GE\n",
        "    tweet = re.sub(r'\\$\\w*', '', tweet)\n",
        "    # remove old style retweet text \"RT\"\n",
        "    tweet = re.sub(r'^RT[\\s]+', '', tweet)\n",
        "    # remove hyperlinks\n",
        "    tweet = re.sub(r'https?:\\/\\/.*[\\r\\n]*', '', tweet)\n",
        "    # remove hashtags\n",
        "    # only removing the hash # sign from the word\n",
        "    tweet = re.sub(r'#', '', tweet)\n",
        "    # tokenize tweets\n",
        "\n",
        "\n",
        "    tokenizer = TweetTokenizer(preserve_case=False, strip_handles=True,\n",
        "                               reduce_len=True)\n",
        "    tweet_tokens = tokenizer.tokenize(tweet)\n",
        "\n",
        "    tweets_clean = []\n",
        "    for word in tweet_tokens:  \n",
        "        #############################################################\n",
        "        # 1 remove stopwords\n",
        "        # 2 remove punctuation\n",
        "        # 3 stemming word\n",
        "        # 4 Add it to tweets_clean\n",
        "        if(word not in stopwords_english and word not in string.punctuation):\n",
        "            stem_word = stemmer.stem(word)\n",
        "            tweets_clean.append(stem_word)\n",
        "    return tweets_clean\n"
      ],
      "execution_count": 4,
      "outputs": []
    },
    {
      "cell_type": "code",
      "metadata": {
        "id": "mNqXD0IreGw-"
      },
      "source": [
        "#build_freqs counts how often a word in the 'corpus' (the entire set of tweets) was associated with\n",
        "  # a positive label '1'         or \n",
        "  # a negative label '0', \n",
        "\n",
        "#then builds the freqs dictionary, where each key is a (word,label) tuple, \n",
        "\n",
        "#and the value is the count of its frequency within the corpus of tweets.\n",
        "\n",
        "def build_freqs(tweets, ys):\n",
        "    \"\"\"Build frequencies.\n",
        "    Input:\n",
        "        tweets: a list of tweets\n",
        "        ys: an m x 1 array with the sentiment label of each tweet\n",
        "            (either 0 or 1)\n",
        "    Output:\n",
        "        freqs: a dictionary mapping each (word, sentiment) pair to its\n",
        "        frequency\n",
        "    \"\"\"\n",
        "    # Convert np array to list since zip needs an iterable.\n",
        "    # The squeeze is necessary or the list ends up with one element.\n",
        "    # Also note that this is just a NOP if ys is already a list.\n",
        "    yslist = np.squeeze(ys).tolist()\n",
        "\n",
        "    # Start with an empty dictionary and populate it by looping over all tweets\n",
        "    # and over all processed words in each tweet.\n",
        "    freqs = {}\n",
        "\n",
        "    for y, tweet in zip(yslist, tweets):\n",
        "        for word in process_tweet(tweet):\n",
        "            pair = (word, y) \n",
        "            #############################################################\n",
        "            #Update the count of pair if present, set it to 1 otherwise\n",
        "            if pair in freqs:\n",
        "              freqs[pair] += 1\n",
        "            else:\n",
        "              freqs[pair] = 1\n",
        "\n",
        "    return freqs"
      ],
      "execution_count": 5,
      "outputs": []
    },
    {
      "cell_type": "markdown",
      "metadata": {
        "id": "WANY1GO7eXt8"
      },
      "source": [
        "Prepare the data\n",
        "- The twitter_samples contains subsets of 5,000 positive tweets, 5,000 negative tweets, and the full set of 10,000 tweets."
      ]
    },
    {
      "cell_type": "code",
      "metadata": {
        "id": "OWaUhJFveZUy"
      },
      "source": [
        "# select the set of positive and negative tweets\n",
        "all_positive_tweets = twitter_samples.strings('positive_tweets.json')\n",
        "all_negative_tweets = twitter_samples.strings('negative_tweets.json')"
      ],
      "execution_count": 7,
      "outputs": []
    },
    {
      "cell_type": "markdown",
      "metadata": {
        "id": "YZa_C9Z-egsx"
      },
      "source": [
        "- Train test split: 20% will be in the test set, and 80% in the training set."
      ]
    },
    {
      "cell_type": "code",
      "metadata": {
        "id": "F7VqLxhjec2x"
      },
      "source": [
        "# # split the data into two pieces, one for training and one for testing\n",
        "# #############################################################\n",
        "# test_pos = all_positive_tweets[4000:]\n",
        "# train_pos = all_positive_tweets[:4000]\n",
        "# test_neg = all_negative_tweets[4000:]\n",
        "# train_neg = all_negative_tweets[:4000]\n",
        "\n",
        "# train_x = train_pos + train_neg\n",
        "# test_x = test_pos + test_neg"
      ],
      "execution_count": 8,
      "outputs": []
    },
    {
      "cell_type": "markdown",
      "metadata": {
        "id": "Or_TCY9Jenog"
      },
      "source": [
        "- Create the numpy array of positive labels and negative labels."
      ]
    },
    {
      "cell_type": "code",
      "metadata": {
        "id": "bd7Px9tGerM9"
      },
      "source": [
        "# # combine positive and negative labels\n",
        "# train_y = np.append(np.ones((len(train_pos), 1)), np.zeros((len(train_neg), 1)), axis=0)\n",
        "# test_y = np.append(np.ones((len(test_pos), 1)), np.zeros((len(test_neg), 1)), axis=0)"
      ],
      "execution_count": 9,
      "outputs": []
    },
    {
      "cell_type": "code",
      "metadata": {
        "id": "z55g8ZyUevSE"
      },
      "source": [
        "Final_data = all_positive_tweets+all_negative_tweets\n",
        "data =np.append(np.ones((len(all_positive_tweets), 1)), np.zeros((len(all_negative_tweets), 1)), axis=0)\n",
        "train_x,test_x,train_y,test_y = train_test_split(Final_data,data,test_size=0.25,random_state= 115)"
      ],
      "execution_count": 14,
      "outputs": []
    },
    {
      "cell_type": "markdown",
      "metadata": {
        "id": "wPyWTRgFeyr9"
      },
      "source": [
        "- Create the frequency dictionary using the build_freqs() function."
      ]
    },
    {
      "cell_type": "code",
      "metadata": {
        "colab": {
          "base_uri": "https://localhost:8080/"
        },
        "id": "5YGbLThee0Cj",
        "outputId": "be10554e-b3d5-4f1c-82af-84a7a9b4d536"
      },
      "source": [
        "# create frequency dictionary\n",
        "#############################################################\n",
        "freqs = build_freqs(train_x,train_y)\n",
        "\n",
        "# check the output\n",
        "print(\"type(freqs) = \" + str(type(freqs)))\n",
        "print(\"len(freqs) = \" + str(len(freqs.keys())))"
      ],
      "execution_count": 15,
      "outputs": [
        {
          "output_type": "stream",
          "name": "stdout",
          "text": [
            "type(freqs) = <class 'dict'>\n",
            "len(freqs) = 10913\n"
          ]
        }
      ]
    },
    {
      "cell_type": "markdown",
      "metadata": {
        "id": "DRGCWxZSe55X"
      },
      "source": [
        "Extracting the features\n",
        "- Given a list of tweets, extract the features and store them in a matrix. You will extract two features.\n",
        "  - The first feature is the number of positive words in a tweet.\n",
        "  - The second feature is the number of negative words in a tweet.\n",
        "- Then train your logistic regression classifier on these features.\n",
        "- Test the classifier on a validation set."
      ]
    },
    {
      "cell_type": "code",
      "metadata": {
        "id": "n4P-0H-KfF0k"
      },
      "source": [
        "def extract_features(tweet, freqs):\n",
        "    '''\n",
        "    Input: \n",
        "        tweet: a list of words for one tweet\n",
        "        freqs: a dictionary corresponding to the frequencies of each tuple (word, label)\n",
        "    Output: \n",
        "        x: a feature vector of dimension (1,3)\n",
        "    '''\n",
        "    # tokenizes, stems, and removes stopwords\n",
        "    #############################################################\n",
        "    word_l = process_tweet(tweet)\n",
        "    \n",
        "    # 2 elements in the form of a 1 x 2 vector\n",
        "    x = np.zeros((1, 2)) \n",
        "     \n",
        "        \n",
        "    # loop through each word in the list of words\n",
        "    for word in word_l:\n",
        "        # increment the word count for the positive label 1\n",
        "        if((word,1) in freqs):\n",
        "          x[0,0]+=freqs[word,1]\n",
        "        # increment the word count for the negative label 0\n",
        "        if((word,0) in freqs):\n",
        "          x[0,1]+=freqs[word,0]\n",
        "    \n",
        "    assert(x.shape == (1, 2))\n",
        "    return x[0]"
      ],
      "execution_count": 16,
      "outputs": []
    },
    {
      "cell_type": "code",
      "metadata": {
        "id": "Hz5ep0TifJQ1"
      },
      "source": [
        "#pred function\n",
        "def predict_tweet(tweet):\n",
        "    with tf.Session() as sess:\n",
        "      saver.restore(sess,save_path='TSession')\n",
        "      data_i=[]\n",
        "      for t in tweet:\n",
        "        data_i.append(extract_features(t,freqs))\n",
        "      data_i=np.asarray(data_i)\n",
        "      return sess.run(tf.nn.sigmoid(tf.add(tf.matmul(a=data_i,b=W,transpose_b=True),bias)))\n",
        "    print(\"--Fail--\")\n",
        "    return"
      ],
      "execution_count": 17,
      "outputs": []
    },
    {
      "cell_type": "code",
      "metadata": {
        "id": "BbaPaieKfTKy"
      },
      "source": [
        "bias=tf.Variable(np.random.randn(1),name=\"Bias\")\n",
        "W=tf.Variable(np.random.randn(1,2),name=\"Weight\")"
      ],
      "execution_count": 19,
      "outputs": []
    },
    {
      "cell_type": "code",
      "metadata": {
        "id": "QEeJoL_dfZg0"
      },
      "source": [
        "data=[]\n",
        "for t in train_x:\n",
        "  data.append(extract_features(t,freqs))\n",
        "data=np.asarray(data)"
      ],
      "execution_count": 20,
      "outputs": []
    },
    {
      "cell_type": "code",
      "metadata": {
        "colab": {
          "base_uri": "https://localhost:8080/"
        },
        "id": "L6FfVcFQfbz9",
        "outputId": "27ab1e2b-4956-4736-e356-c47cb9ffe764"
      },
      "source": [
        "Y_hat = tf.nn.sigmoid(tf.add(tf.matmul(np.asarray(data), W,transpose_b=True), bias)) \n",
        "ta=np.asarray(train_y)\n",
        "Total_cost = tf.nn.sigmoid_cross_entropy_with_logits(logits = Y_hat, labels = ta) \n",
        "print(Total_cost)"
      ],
      "execution_count": 21,
      "outputs": [
        {
          "output_type": "stream",
          "name": "stdout",
          "text": [
            "Tensor(\"logistic_loss:0\", shape=(7500, 1), dtype=float64)\n"
          ]
        }
      ]
    },
    {
      "cell_type": "code",
      "metadata": {
        "id": "L1Tsa7F8feXO"
      },
      "source": [
        "# Gradient Descent Optimizer \n",
        "optimizer = tf.train.GradientDescentOptimizer(learning_rate = 0.00001 ,name=\"GradientDescent\").minimize(Total_cost) \n",
        "# Global Variables Initializer \n",
        "init = tf.global_variables_initializer()"
      ],
      "execution_count": 22,
      "outputs": []
    },
    {
      "cell_type": "code",
      "metadata": {
        "colab": {
          "base_uri": "https://localhost:8080/"
        },
        "id": "JZjHvDJHfg3E",
        "outputId": "694c442c-72d5-49b0-abd4-b75124557c5b"
      },
      "source": [
        "saver = tf.train.Saver()\n",
        "with tf.Session() as sess:\n",
        "  \n",
        "  sess.run(init)\n",
        "  print(\"Bias\",sess.run(bias))\n",
        "  print(\"Weight\",sess.run(W))\n",
        "  for epoch in range(1000):\n",
        "    sess.run(optimizer)\n",
        "    preds=sess.run(Y_hat)\n",
        "    acc=((preds==ta).sum())/len(train_y)\n",
        "    Accuracy=[]\n",
        "    repoch=False\n",
        "    if repoch:\n",
        "      Accuracy.append(acc)\n",
        "    if epoch % 1000 == 0:\n",
        "      print(\"Accuracy\",acc)\n",
        "    saved_path = saver.save(sess, 'TSession')"
      ],
      "execution_count": 23,
      "outputs": [
        {
          "output_type": "stream",
          "name": "stdout",
          "text": [
            "Bias [-0.32669121]\n",
            "Weight [[ 0.33107016 -0.80398698]]\n",
            "Accuracy 0.8874666666666666\n"
          ]
        }
      ]
    },
    {
      "cell_type": "code",
      "metadata": {
        "colab": {
          "base_uri": "https://localhost:8080/"
        },
        "id": "F63x3Z7NfylJ",
        "outputId": "2d62673d-26bd-4192-a3c1-ce00ed6660aa"
      },
      "source": [
        "preds=predict_tweet(test_x)\n",
        "print(preds,len(test_y))"
      ],
      "execution_count": 24,
      "outputs": [
        {
          "output_type": "stream",
          "name": "stdout",
          "text": [
            "INFO:tensorflow:Restoring parameters from TSession\n",
            "[[0.]\n",
            " [1.]\n",
            " [1.]\n",
            " ...\n",
            " [1.]\n",
            " [1.]\n",
            " [1.]] 2500\n"
          ]
        }
      ]
    },
    {
      "cell_type": "code",
      "metadata": {
        "id": "O2vr-0l-f0_7"
      },
      "source": [
        "def accuracy(x,y):\n",
        "  return ((x==y).sum())/len(y)"
      ],
      "execution_count": 25,
      "outputs": []
    },
    {
      "cell_type": "code",
      "metadata": {
        "colab": {
          "base_uri": "https://localhost:8080/"
        },
        "id": "pEq6mWHkf3ex",
        "outputId": "f4d7e127-8d6a-4983-f1c1-7e8c055ef0ab"
      },
      "source": [
        "print(accuracy(preds,test_y))"
      ],
      "execution_count": 26,
      "outputs": [
        {
          "output_type": "stream",
          "name": "stdout",
          "text": [
            "0.9148\n"
          ]
        }
      ]
    }
  ]
}
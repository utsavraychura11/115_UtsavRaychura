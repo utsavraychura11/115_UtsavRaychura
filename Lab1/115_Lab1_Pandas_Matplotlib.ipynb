{
  "nbformat": 4,
  "nbformat_minor": 0,
  "metadata": {
    "colab": {
      "name": "115_Lab1_Pandas_Matplotlib.ipynb",
      "provenance": [],
      "collapsed_sections": [],
      "include_colab_link": true
    },
    "kernelspec": {
      "name": "python3",
      "display_name": "Python 3"
    },
    "language_info": {
      "name": "python"
    }
  },
  "cells": [
    {
      "cell_type": "markdown",
      "metadata": {
        "id": "view-in-github",
        "colab_type": "text"
      },
      "source": [
        "<a href=\"https://colab.research.google.com/github/utsavraychura11/115_UtsavRaychura_ML/blob/main/Lab1/115_Lab1_Pandas_Matplotlib.ipynb\" target=\"_parent\"><img src=\"https://colab.research.google.com/assets/colab-badge.svg\" alt=\"Open In Colab\"/></a>"
      ]
    },
    {
      "cell_type": "code",
      "metadata": {
        "colab": {
          "base_uri": "https://localhost:8080/"
        },
        "id": "yXyqO9609v10",
        "outputId": "d9e2a05f-2566-441f-f2b8-ae7e3732f748"
      },
      "source": [
        "from google.colab import drive\n",
        "drive.mount('/content/drive')"
      ],
      "execution_count": 1,
      "outputs": [
        {
          "output_type": "stream",
          "text": [
            "Mounted at /content/drive\n"
          ],
          "name": "stdout"
        }
      ]
    },
    {
      "cell_type": "code",
      "metadata": {
        "id": "e0hpwZKrWTR8"
      },
      "source": [
        "import pandas as pd\n",
        "import numpy as np\n",
        "import matplotlib.pyplot as plt"
      ],
      "execution_count": 2,
      "outputs": []
    },
    {
      "cell_type": "code",
      "metadata": {
        "id": "W0rlWnWcWbQ7"
      },
      "source": [
        "data = pd.read_csv('/content/drive/My Drive/Colab Notebooks/ML/Lab1/Data_for_Transformation.csv')"
      ],
      "execution_count": 3,
      "outputs": []
    },
    {
      "cell_type": "code",
      "metadata": {
        "colab": {
          "base_uri": "https://localhost:8080/",
          "height": 366
        },
        "id": "MSkZAQ36WsS5",
        "outputId": "8d1bf86e-ffd0-45ba-d22e-5ae5866c7762"
      },
      "source": [
        "print(data.head())\n",
        "plt.scatter(data[\"Age\"], data['Salary'])\n",
        "plt.show()"
      ],
      "execution_count": 4,
      "outputs": [
        {
          "output_type": "stream",
          "text": [
            "   Country  Age  Salary Purchased\n",
            "0   France   44   72000        No\n",
            "1    Spain   27   48000       Yes\n",
            "2  Germany   30   54000        No\n",
            "3    Spain   38   61000        No\n",
            "4  Germany   40   68000       Yes\n"
          ],
          "name": "stdout"
        },
        {
          "output_type": "display_data",
          "data": {
            "image/png": "[encoded data removed]",
            "text/plain": [
              "<Figure size 432x288 with 1 Axes>"
            ]
          },
          "metadata": {
            "tags": [],
            "needs_background": "light"
          }
        }
      ]
    },
    {
      "cell_type": "code",
      "metadata": {
        "colab": {
          "base_uri": "https://localhost:8080/",
          "height": 265
        },
        "id": "-cjtBAv5W6er",
        "outputId": "ad6d3fb4-5272-4369-b5cc-55ff19be7164"
      },
      "source": [
        "plt.hist(data['Salary'], bins = 10, color='green')\n",
        "plt.show()"
      ],
      "execution_count": 5,
      "outputs": [
        {
          "output_type": "display_data",
          "data": {
            "image/png": "[encoded data removed]",
            "text/plain": [
              "<Figure size 432x288 with 1 Axes>"
            ]
          },
          "metadata": {
            "tags": [],
            "needs_background": "light"
          }
        }
      ]
    },
    {
      "cell_type": "code",
      "metadata": {
        "colab": {
          "base_uri": "https://localhost:8080/",
          "height": 350
        },
        "id": "yuku3twrXGAF",
        "outputId": "d2c41664-5b4b-4f67-d386-4e2801375363"
      },
      "source": [
        "fig_size = plt.figure(figsize=(8, 5))\n",
        "plt.bar(data['Country'], data['Salary'], color='yellow')\n",
        "plt.xlabel('Salaries')\n",
        "plt.ylabel('Countries')\n",
        "plt.title('Bar chart of Country vs Salary')\n",
        "plt.show()"
      ],
      "execution_count": 6,
      "outputs": [
        {
          "output_type": "display_data",
          "data": {
            "image/png": "[encoded data removed]",
            "text/plain": [
              "<Figure size 576x360 with 1 Axes>"
            ]
          },
          "metadata": {
            "tags": [],
            "needs_background": "light"
          }
        }
      ]
    }
  ]
}
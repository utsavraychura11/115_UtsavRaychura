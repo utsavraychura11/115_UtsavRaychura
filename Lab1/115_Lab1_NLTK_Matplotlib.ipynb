{
  "nbformat": 4,
  "nbformat_minor": 0,
  "metadata": {
    "colab": {
      "name": "115_Lab1_NLTK_Matplotlib.ipynb",
      "provenance": [],
      "collapsed_sections": [],
      "include_colab_link": true
    },
    "kernelspec": {
      "name": "python3",
      "display_name": "Python 3"
    },
    "language_info": {
      "name": "python"
    }
  },
  "cells": [
    {
      "cell_type": "markdown",
      "metadata": {
        "id": "view-in-github",
        "colab_type": "text"
      },
      "source": [
        "<a href=\"https://colab.research.google.com/github/utsavraychura11/115_UtsavRaychura_ML/blob/main/Lab1/115_Lab1_NLTK_Matplotlib.ipynb\" target=\"_parent\"><img src=\"https://colab.research.google.com/assets/colab-badge.svg\" alt=\"Open In Colab\"/></a>"
      ]
    },
    {
      "cell_type": "code",
      "metadata": {
        "colab": {
          "base_uri": "https://localhost:8080/"
        },
        "id": "VnHGTkrunq6T",
        "outputId": "ed979a64-09e3-4fba-86b0-3de02e24fd65"
      },
      "source": [
        "from google.colab import drive\n",
        "drive.mount('/content/drive')"
      ],
      "execution_count": 1,
      "outputs": [
        {
          "output_type": "stream",
          "text": [
            "Mounted at /content/drive\n"
          ],
          "name": "stdout"
        }
      ]
    },
    {
      "cell_type": "code",
      "metadata": {
        "id": "qfZ9zKYXn7mt"
      },
      "source": [
        "import nltk\n",
        "import matplotlib.pyplot as plt\n",
        "import pandas as pd"
      ],
      "execution_count": 2,
      "outputs": []
    },
    {
      "cell_type": "code",
      "metadata": {
        "colab": {
          "base_uri": "https://localhost:8080/"
        },
        "id": "efz-9nBPN-Lw",
        "outputId": "90a92e72-0901-4123-e1c0-316539211a46"
      },
      "source": [
        "# text analysis\n",
        "text = \"\"\"Discussing climate, sustainability, and preserving the natural world with President @EmmanuelMacron today in Paris. #BezosEarthFund #ClimatePledge\"\"\"\n",
        "\n",
        "import re\n",
        "import string\n",
        "from nltk.corpus import stopwords\n",
        "from nltk.stem import PorterStemmer\n",
        "from nltk.tokenize import TweetTokenizer\n",
        "\n",
        "remove_link = re.sub(f'https?:\\/\\/.*[\\r\\n]*', '', text)\n",
        "remove_link = re.sub(r'#', '', remove_link)\n",
        "print(remove_link)"
      ],
      "execution_count": 3,
      "outputs": [
        {
          "output_type": "stream",
          "text": [
            "Discussing climate, sustainability, and preserving the natural world with President @EmmanuelMacron today in Paris. BezosEarthFund ClimatePledge\n"
          ],
          "name": "stdout"
        }
      ]
    },
    {
      "cell_type": "code",
      "metadata": {
        "colab": {
          "base_uri": "https://localhost:8080/"
        },
        "id": "-A7WllK8O2BD",
        "outputId": "23a6b8e8-f9a6-4577-ea53-8b29906dc9fa"
      },
      "source": [
        "print('\\033[92m' + text)\n",
        "print('\\033[92m' + remove_link)"
      ],
      "execution_count": 4,
      "outputs": [
        {
          "output_type": "stream",
          "text": [
            "\u001b[92mDiscussing climate, sustainability, and preserving the natural world with President @EmmanuelMacron today in Paris. #BezosEarthFund #ClimatePledge\n",
            "\u001b[92mDiscussing climate, sustainability, and preserving the natural world with President @EmmanuelMacron today in Paris. BezosEarthFund ClimatePledge\n"
          ],
          "name": "stdout"
        }
      ]
    },
    {
      "cell_type": "code",
      "metadata": {
        "colab": {
          "base_uri": "https://localhost:8080/"
        },
        "id": "naw66Y2BO8hg",
        "outputId": "8347513d-34ce-4433-ca53-f4ca97d5ab9f"
      },
      "source": [
        "from nltk.tokenize import sent_tokenize\n",
        "\n",
        "text = \"\"\"Hello Mr. steve, how you doing? whats up? The weather is great, and city is awesome. how you doing? The sky is pinkish-blue. \n",
        "You shouldn't eat cardboard, how you doing?\"\"\"\n",
        "nltk.download('punkt')\n",
        "tokenized_text = sent_tokenize(text)\n",
        "print(tokenized_text)"
      ],
      "execution_count": 5,
      "outputs": [
        {
          "output_type": "stream",
          "text": [
            "[nltk_data] Downloading package punkt to /root/nltk_data...\n",
            "[nltk_data]   Unzipping tokenizers/punkt.zip.\n",
            "['Hello Mr. steve, how you doing?', 'whats up?', 'The weather is great, and city is awesome.', 'how you doing?', 'The sky is pinkish-blue.', \"You shouldn't eat cardboard, how you doing?\"]\n"
          ],
          "name": "stdout"
        }
      ]
    },
    {
      "cell_type": "code",
      "metadata": {
        "colab": {
          "base_uri": "https://localhost:8080/"
        },
        "id": "8UubfzEhPaZl",
        "outputId": "18d3fdb1-0eb7-4093-b040-f8afdf0c520e"
      },
      "source": [
        "from nltk.tokenize import word_tokenize\n",
        "tokenized_word = word_tokenize(text)\n",
        "\n",
        "print(tokenized_word)"
      ],
      "execution_count": 6,
      "outputs": [
        {
          "output_type": "stream",
          "text": [
            "['Hello', 'Mr.', 'steve', ',', 'how', 'you', 'doing', '?', 'whats', 'up', '?', 'The', 'weather', 'is', 'great', ',', 'and', 'city', 'is', 'awesome', '.', 'how', 'you', 'doing', '?', 'The', 'sky', 'is', 'pinkish-blue', '.', 'You', 'should', \"n't\", 'eat', 'cardboard', ',', 'how', 'you', 'doing', '?']\n"
          ],
          "name": "stdout"
        }
      ]
    },
    {
      "cell_type": "code",
      "metadata": {
        "colab": {
          "base_uri": "https://localhost:8080/",
          "height": 330
        },
        "id": "hV1elgAaPn7E",
        "outputId": "e8276f91-3873-41bc-b93a-dafa5abc21af"
      },
      "source": [
        "# frequency distribution\n",
        "from nltk.probability import FreqDist\n",
        "fredist = FreqDist(tokenized_word)\n",
        "fredist.most_common(4)\n",
        "\n",
        "#plotting frequency distribution\n",
        "import matplotlib.pyplot as plt\n",
        "fredist.plot(30, cumulative = False, color = 'blue')\n",
        "plt.show()"
      ],
      "execution_count": 7,
      "outputs": [
        {
          "output_type": "display_data",
          "data": {
            "image/png": "[encoded data removed]",
            "text/plain": [
              "<Figure size 432x288 with 1 Axes>"
            ]
          },
          "metadata": {
            "tags": [],
            "needs_background": "light"
          }
        }
      ]
    },
    {
      "cell_type": "code",
      "metadata": {
        "colab": {
          "base_uri": "https://localhost:8080/"
        },
        "id": "FhB3jZWXQdKd",
        "outputId": "aaa3617b-0d1e-45d3-8b76-d35efb2d696a"
      },
      "source": [
        "from nltk.corpus import stopwords\n",
        "nltk.download('stopwords')\n",
        "stop_words = set(stopwords.words('english'))\n",
        "print(stop_words)"
      ],
      "execution_count": 8,
      "outputs": [
        {
          "output_type": "stream",
          "text": [
            "[nltk_data] Downloading package stopwords to /root/nltk_data...\n",
            "[nltk_data]   Unzipping corpora/stopwords.zip.\n",
            "{'below', 'ma', 've', 'have', 'by', 'y', 'most', 'has', 'o', 'she', 'more', 'before', \"you're\", 'those', 'now', 'he', 'off', 'd', 'we', 'further', \"haven't\", 'these', 'each', 'then', 'your', 'doing', 'wasn', 'myself', 'him', \"wasn't\", 'such', 'me', 'so', 'why', 'their', 'in', \"won't\", 'to', 'haven', \"mightn't\", 'only', 'yourselves', 'you', 'my', \"it's\", \"couldn't\", 'hers', 'having', 'here', 'hadn', 'nor', 'over', 'as', 'doesn', 'our', 'been', 'all', 'did', \"hasn't\", 'herself', 're', \"needn't\", 'his', \"she's\", 'shan', 'and', 'until', 'up', 'is', 'do', 'from', 'should', 'again', 'll', 'into', 'too', 'can', 'won', 's', 'hasn', 'for', \"that'll\", 'if', 'himself', 'down', \"mustn't\", 'was', 'during', 'm', 'shouldn', 'an', \"you'd\", 'couldn', 'on', 'what', 'after', \"doesn't\", 'yours', 'they', 'above', 'yourself', 'same', 'whom', \"you'll\", 'while', 'few', 'just', 'will', 'or', 'but', \"isn't\", 'own', 'any', \"don't\", 'this', 'that', 'through', 'being', 'under', 'were', \"shouldn't\", 'had', 'mightn', \"you've\", 'of', 'with', 'wouldn', 'be', 'i', \"hadn't\", \"weren't\", 'theirs', 'once', 'aren', 'them', 'other', 'about', 't', 'not', 'the', 'at', 'because', \"shan't\", 'themselves', 'itself', 'are', 'there', \"aren't\", 'ain', 'mustn', 'how', 'its', 'who', 'where', 'does', 'out', 'it', 'weren', 'both', 'against', 'a', \"wouldn't\", 'am', 'isn', 'didn', 'ourselves', 'than', 'between', 'ours', 'her', 'some', 'which', 'when', \"should've\", 'needn', 'very', \"didn't\", 'don', 'no'}\n"
          ],
          "name": "stdout"
        }
      ]
    },
    {
      "cell_type": "code",
      "metadata": {
        "colab": {
          "base_uri": "https://localhost:8080/"
        },
        "id": "ooeyACgUQtpK",
        "outputId": "0e28ec3f-26c4-4c54-a224-9d723fef9d41"
      },
      "source": [
        "filtered_sentence = []\n",
        "for word in tokenized_word:\n",
        "  if word not in stop_words:\n",
        "    filtered_sentence.append(word)\n",
        "print('Tokenized Sentence : \\n', tokenized_word)\n",
        "print('\\nFiltered Sentence : \\n', filtered_sentence)"
      ],
      "execution_count": 9,
      "outputs": [
        {
          "output_type": "stream",
          "text": [
            "Tokenized Sentence : \n",
            " ['Hello', 'Mr.', 'steve', ',', 'how', 'you', 'doing', '?', 'whats', 'up', '?', 'The', 'weather', 'is', 'great', ',', 'and', 'city', 'is', 'awesome', '.', 'how', 'you', 'doing', '?', 'The', 'sky', 'is', 'pinkish-blue', '.', 'You', 'should', \"n't\", 'eat', 'cardboard', ',', 'how', 'you', 'doing', '?']\n",
            "\n",
            "Filtered Sentence : \n",
            " ['Hello', 'Mr.', 'steve', ',', '?', 'whats', '?', 'The', 'weather', 'great', ',', 'city', 'awesome', '.', '?', 'The', 'sky', 'pinkish-blue', '.', 'You', \"n't\", 'eat', 'cardboard', ',', '?']\n"
          ],
          "name": "stdout"
        }
      ]
    },
    {
      "cell_type": "code",
      "metadata": {
        "colab": {
          "base_uri": "https://localhost:8080/"
        },
        "id": "aopr6n44RKrM",
        "outputId": "72c8306d-e5f3-41c8-a19c-93832386cb25"
      },
      "source": [
        "from nltk.stem import PorterStemmer\n",
        "from nltk.tokenize import sent_tokenize, word_tokenize\n",
        "\n",
        "ps = PorterStemmer()\n",
        "stemmed_sentence = []\n",
        "for word in filtered_sentence:\n",
        "  stemmed_sentence.append(ps.stem(word))\n",
        "\n",
        "print('Filtered Sentence : \\n', filtered_sentence)\n",
        "print('\\nStemmed Sentence : \\n', stemmed_sentence)"
      ],
      "execution_count": 10,
      "outputs": [
        {
          "output_type": "stream",
          "text": [
            "Filtered Sentence : \n",
            " ['Hello', 'Mr.', 'steve', ',', '?', 'whats', '?', 'The', 'weather', 'great', ',', 'city', 'awesome', '.', '?', 'The', 'sky', 'pinkish-blue', '.', 'You', \"n't\", 'eat', 'cardboard', ',', '?']\n",
            "\n",
            "Stemmed Sentence : \n",
            " ['hello', 'mr.', 'steve', ',', '?', 'what', '?', 'the', 'weather', 'great', ',', 'citi', 'awesom', '.', '?', 'the', 'sky', 'pinkish-blu', '.', 'you', \"n't\", 'eat', 'cardboard', ',', '?']\n"
          ],
          "name": "stdout"
        }
      ]
    },
    {
      "cell_type": "code",
      "metadata": {
        "colab": {
          "base_uri": "https://localhost:8080/"
        },
        "id": "FDsRBcF8TNGv",
        "outputId": "a25ec8ea-d311-4270-be6b-c0d11d140591"
      },
      "source": [
        "# stemming and lemmatization\n",
        "\n",
        "from nltk.stem.wordnet import WordNetLemmatizer\n",
        "from nltk.stem.porter import PorterStemmer\n",
        "\n",
        "nltk.download('wordnet')\n",
        "lemmatizer = WordNetLemmatizer()\n",
        "\n",
        "ps = PorterStemmer()\n",
        "word = 'crying'\n",
        "print('Lemmatized Word  :  ', lemmatizer.lemmatize(word, 'v'))\n",
        "print('Stemmed word  :  ', ps.stem(word))"
      ],
      "execution_count": 11,
      "outputs": [
        {
          "output_type": "stream",
          "text": [
            "[nltk_data] Downloading package wordnet to /root/nltk_data...\n",
            "[nltk_data]   Unzipping corpora/wordnet.zip.\n",
            "Lemmatized Word  :   cry\n",
            "Stemmed word  :   cri\n"
          ],
          "name": "stdout"
        }
      ]
    }
  ]
}
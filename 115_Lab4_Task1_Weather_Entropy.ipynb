{
  "nbformat": 4,
  "nbformat_minor": 0,
  "metadata": {
    "colab": {
      "name": "115_Lab4_Task1_Weather_Entropy.ipynb",
      "provenance": [],
      "authorship_tag": "ABX9TyP34o/WQI1hCHusLSB3htql"
    },
    "kernelspec": {
      "name": "python3",
      "display_name": "Python 3"
    },
    "language_info": {
      "name": "python"
    }
  },
  "cells": [
    {
      "cell_type": "markdown",
      "metadata": {
        "id": "zHgSpYJ3F_qo"
      },
      "source": [
        "**Task-1:** Try the algo on Same Whether dataset - OneHotEncoding of features: and Train test Division 85%-15% with Gini Index as attribute selection measure"
      ]
    },
    {
      "cell_type": "code",
      "metadata": {
        "id": "CRbLLHQQGJub"
      },
      "source": [
        "#Import library\n",
        "\n",
        "from sklearn import preprocessing\n",
        "from sklearn import datasets\n",
        "from sklearn.tree import DecisionTreeClassifier\n",
        "import pandas as pd\n",
        "import numpy as np"
      ],
      "execution_count": null,
      "outputs": []
    },
    {
      "cell_type": "code",
      "metadata": {
        "id": "G2VioN-oGa6U"
      },
      "source": [
        "#Predictor variables\n",
        "\n",
        "Outlook = ['Rainy', 'Rainy', 'Overcast', 'Sunny', 'Sunny', 'Sunny', 'Overcast',\n",
        "            'Rainy', 'Rainy', 'Sunny', 'Rainy','Overcast', 'Overcast', 'Sunny']\n",
        "Temperature = ['Hot', 'Hot', 'Hot', 'Mild', 'Cool', 'Cool', 'Cool',\n",
        "                'Mild', 'Cool', 'Mild', 'Mild', 'Mild', 'Hot', 'Mild']\n",
        "Humidity = ['High', 'High', 'High', 'High', 'Normal', 'Normal', 'Normal',\n",
        "            'High', 'Normal', 'Normal', 'Normal', 'High', 'Normal', 'High']\n",
        "Wind = ['False', 'True', 'False', 'False', 'False', 'True', 'True',\n",
        "            'False', 'False', 'False', 'True', 'True', 'False', 'True']\n",
        "\n",
        "#Class Label:\n",
        "Play = ['No', 'No', 'Yes', 'Yes', 'Yes', 'No', 'Yes', 'No',\n",
        "'Yes', 'Yes', 'Yes', 'Yes', 'Yes', 'No']"
      ],
      "execution_count": null,
      "outputs": []
    },
    {
      "cell_type": "code",
      "metadata": {
        "colab": {
          "base_uri": "https://localhost:8080/"
        },
        "id": "uaV0ir3HGi_a",
        "outputId": "564609d6-271d-4284-d10a-b254606dbc60"
      },
      "source": [
        "#Encoding the features using one-hot encoding\n",
        "\n",
        "from sklearn.preprocessing import OneHotEncoder\n",
        "X = tuple(zip(Outlook, Temperature, Humidity, Wind))\n",
        "print(X)\n",
        "X_enc = OneHotEncoder().fit_transform(X).toarray()\n",
        "print(\"\\n\",X_enc)\n",
        "\n",
        "from sklearn.preprocessing import LabelEncoder\n",
        "le = LabelEncoder()\n",
        "Y_enc = le.fit_transform(Play)\n",
        "print(\"\\n\",Y_enc)"
      ],
      "execution_count": null,
      "outputs": [
        {
          "output_type": "stream",
          "name": "stdout",
          "text": [
            "(('Rainy', 'Hot', 'High', 'False'), ('Rainy', 'Hot', 'High', 'True'), ('Overcast', 'Hot', 'High', 'False'), ('Sunny', 'Mild', 'High', 'False'), ('Sunny', 'Cool', 'Normal', 'False'), ('Sunny', 'Cool', 'Normal', 'True'), ('Overcast', 'Cool', 'Normal', 'True'), ('Rainy', 'Mild', 'High', 'False'), ('Rainy', 'Cool', 'Normal', 'False'), ('Sunny', 'Mild', 'Normal', 'False'), ('Rainy', 'Mild', 'Normal', 'True'), ('Overcast', 'Mild', 'High', 'True'), ('Overcast', 'Hot', 'Normal', 'False'), ('Sunny', 'Mild', 'High', 'True'))\n",
            "\n",
            " [[0. 1. 0. 0. 1. 0. 1. 0. 1. 0.]\n",
            " [0. 1. 0. 0. 1. 0. 1. 0. 0. 1.]\n",
            " [1. 0. 0. 0. 1. 0. 1. 0. 1. 0.]\n",
            " [0. 0. 1. 0. 0. 1. 1. 0. 1. 0.]\n",
            " [0. 0. 1. 1. 0. 0. 0. 1. 1. 0.]\n",
            " [0. 0. 1. 1. 0. 0. 0. 1. 0. 1.]\n",
            " [1. 0. 0. 1. 0. 0. 0. 1. 0. 1.]\n",
            " [0. 1. 0. 0. 0. 1. 1. 0. 1. 0.]\n",
            " [0. 1. 0. 1. 0. 0. 0. 1. 1. 0.]\n",
            " [0. 0. 1. 0. 0. 1. 0. 1. 1. 0.]\n",
            " [0. 1. 0. 0. 0. 1. 0. 1. 0. 1.]\n",
            " [1. 0. 0. 0. 0. 1. 1. 0. 0. 1.]\n",
            " [1. 0. 0. 0. 1. 0. 0. 1. 1. 0.]\n",
            " [0. 0. 1. 0. 0. 1. 1. 0. 0. 1.]]\n",
            "\n",
            " [0 0 1 1 1 0 1 0 1 1 1 1 1 0]\n"
          ]
        }
      ]
    },
    {
      "cell_type": "code",
      "metadata": {
        "colab": {
          "base_uri": "https://localhost:8080/"
        },
        "id": "qD-fdpFuH-ft",
        "outputId": "55b4ce6b-fe5a-4e23-8872-afaa867f41ce"
      },
      "source": [
        "#Merge different features to prepare dataset\n",
        "#create a tuples of different values\n",
        "\n",
        "print(\"\\nFeatures\\n\")\n",
        "for pair in X_enc:\n",
        "  print(pair)"
      ],
      "execution_count": null,
      "outputs": [
        {
          "output_type": "stream",
          "name": "stdout",
          "text": [
            "\n",
            "Features\n",
            "\n",
            "[0. 1. 0. 0. 1. 0. 1. 0. 1. 0.]\n",
            "[0. 1. 0. 0. 1. 0. 1. 0. 0. 1.]\n",
            "[1. 0. 0. 0. 1. 0. 1. 0. 1. 0.]\n",
            "[0. 0. 1. 0. 0. 1. 1. 0. 1. 0.]\n",
            "[0. 0. 1. 1. 0. 0. 0. 1. 1. 0.]\n",
            "[0. 0. 1. 1. 0. 0. 0. 1. 0. 1.]\n",
            "[1. 0. 0. 1. 0. 0. 0. 1. 0. 1.]\n",
            "[0. 1. 0. 0. 0. 1. 1. 0. 1. 0.]\n",
            "[0. 1. 0. 1. 0. 0. 0. 1. 1. 0.]\n",
            "[0. 0. 1. 0. 0. 1. 0. 1. 1. 0.]\n",
            "[0. 1. 0. 0. 0. 1. 0. 1. 0. 1.]\n",
            "[1. 0. 0. 0. 0. 1. 1. 0. 0. 1.]\n",
            "[1. 0. 0. 0. 1. 0. 0. 1. 1. 0.]\n",
            "[0. 0. 1. 0. 0. 1. 1. 0. 0. 1.]\n"
          ]
        }
      ]
    },
    {
      "cell_type": "code",
      "metadata": {
        "colab": {
          "base_uri": "https://localhost:8080/"
        },
        "id": "DW-s4w86KfK7",
        "outputId": "ff0f2b9f-df2e-49ad-f6ef-e005155ed5fe"
      },
      "source": [
        "from sklearn.model_selection import train_test_split\n",
        "\n",
        "x_train, x_test, y_train, y_test = train_test_split(X_enc, Y_enc, test_size = 0.15, random_state = 115)\n",
        "print(x_train)"
      ],
      "execution_count": null,
      "outputs": [
        {
          "output_type": "stream",
          "name": "stdout",
          "text": [
            "[[0. 0. 1. 0. 0. 1. 1. 0. 1. 0.]\n",
            " [0. 1. 0. 0. 0. 1. 0. 1. 0. 1.]\n",
            " [0. 0. 1. 1. 0. 0. 0. 1. 1. 0.]\n",
            " [0. 1. 0. 0. 0. 1. 1. 0. 1. 0.]\n",
            " [0. 1. 0. 0. 1. 0. 1. 0. 0. 1.]\n",
            " [0. 0. 1. 1. 0. 0. 0. 1. 0. 1.]\n",
            " [1. 0. 0. 0. 1. 0. 0. 1. 1. 0.]\n",
            " [1. 0. 0. 1. 0. 0. 0. 1. 0. 1.]\n",
            " [0. 0. 1. 0. 0. 1. 1. 0. 0. 1.]\n",
            " [0. 1. 0. 0. 1. 0. 1. 0. 1. 0.]\n",
            " [1. 0. 0. 0. 1. 0. 1. 0. 1. 0.]]\n"
          ]
        }
      ]
    },
    {
      "cell_type": "code",
      "metadata": {
        "colab": {
          "base_uri": "https://localhost:8080/"
        },
        "id": "tPgfQWx_Ks8D",
        "outputId": "7f8635c9-74b8-4fdd-b9b6-a9c627bf06e2"
      },
      "source": [
        "#Create and Train Decision Tree Classifier (using Gini)\n",
        "\n",
        "from sklearn import metrics\n",
        "\n",
        "dtc = DecisionTreeClassifier(criterion = \"gini\",\n",
        "                             random_state = 115, \n",
        "                             max_leaf_nodes=115)\n",
        "\n",
        "dtc.fit(x_train, y_train)"
      ],
      "execution_count": null,
      "outputs": [
        {
          "output_type": "execute_result",
          "data": {
            "text/plain": [
              "DecisionTreeClassifier(ccp_alpha=0.0, class_weight=None, criterion='gini',\n",
              "                       max_depth=None, max_features=None, max_leaf_nodes=115,\n",
              "                       min_impurity_decrease=0.0, min_impurity_split=None,\n",
              "                       min_samples_leaf=1, min_samples_split=2,\n",
              "                       min_weight_fraction_leaf=0.0, presort='deprecated',\n",
              "                       random_state=115, splitter='best')"
            ]
          },
          "metadata": {},
          "execution_count": 24
        }
      ]
    },
    {
      "cell_type": "code",
      "metadata": {
        "colab": {
          "base_uri": "https://localhost:8080/"
        },
        "id": "LrG-QCCFOWK2",
        "outputId": "85987127-1bdf-436a-857a-521058f67f4a"
      },
      "source": [
        "# Predict the classes of test data\n",
        "y_pred = dtc.predict(x_test)\n",
        "print(\"Predicted values: \")\n",
        "print(y_pred)\n",
        "print(y_test)"
      ],
      "execution_count": null,
      "outputs": [
        {
          "output_type": "stream",
          "name": "stdout",
          "text": [
            "Predicted values: \n",
            "[1 1 1]\n",
            "[1 1 1]\n"
          ]
        }
      ]
    },
    {
      "cell_type": "code",
      "metadata": {
        "colab": {
          "base_uri": "https://localhost:8080/",
          "height": 203
        },
        "id": "rWkso0dRNjnU",
        "outputId": "29f3d3de-ca7b-48bd-a8f4-3ec7d65db4be"
      },
      "source": [
        "# Model Accuracy\n",
        "from sklearn import metrics\n",
        "from sklearn.metrics import precision_score\n",
        "from sklearn.metrics import recall_score\n",
        "\n",
        "print(\"Confusion Matrix: \", metrics.confusion_matrix(y_test, y_pred))\n",
        "print (\"Accuracy : \", metrics.accuracy_score(y_test,y_pred)*100)\n",
        "print(\"Report : \", metrics.classification_report(y_test, y_pred))\n",
        "\n",
        "\n",
        "\n",
        "'''precision = precision_score(y_test, y_pred)\n",
        "recall = recall_score(y_test, y_pred)\n",
        "\n",
        "print(\"precision :- {precision}\")\n",
        "print(\"recall :- {recall}\")'''\n"
      ],
      "execution_count": null,
      "outputs": [
        {
          "output_type": "stream",
          "name": "stdout",
          "text": [
            "Confusion Matrix:  [[3]]\n",
            "Accuracy :  100.0\n",
            "Report :                precision    recall  f1-score   support\n",
            "\n",
            "           1       1.00      1.00      1.00         3\n",
            "\n",
            "    accuracy                           1.00         3\n",
            "   macro avg       1.00      1.00      1.00         3\n",
            "weighted avg       1.00      1.00      1.00         3\n",
            "\n"
          ]
        },
        {
          "output_type": "execute_result",
          "data": {
            "application/vnd.google.colaboratory.intrinsic+json": {
              "type": "string"
            },
            "text/plain": [
              "'precision = precision_score(y_test, y_pred)\\nrecall = recall_score(y_test, y_pred)\\n\\nprint(\"precision :- {precision}\")\\nprint(\"recall :- {recall}\")'"
            ]
          },
          "metadata": {},
          "execution_count": 36
        }
      ]
    }
  ]
}
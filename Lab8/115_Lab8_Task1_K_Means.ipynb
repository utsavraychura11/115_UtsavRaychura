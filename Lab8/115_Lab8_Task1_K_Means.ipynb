{
  "nbformat": 4,
  "nbformat_minor": 0,
  "metadata": {
    "colab": {
      "name": "115_Lab8_Task1_K-Means.ipynb",
      "provenance": []
    },
    "kernelspec": {
      "name": "python3",
      "display_name": "Python 3"
    },
    "language_info": {
      "name": "python"
    }
  },
  "cells": [
    {
      "cell_type": "markdown",
      "metadata": {
        "id": "UGIOH9r_iUx1"
      },
      "source": [
        "**Aim :** To implement K-Means clustering using scikit-learn library for unlabeled and labeled data.\n",
        "\n",
        "**Excercise:** Write a python program to perform K-Means clustering on Breast Cancer Data"
      ]
    },
    {
      "cell_type": "markdown",
      "metadata": {
        "id": "ArhXx-FfirEi"
      },
      "source": [
        "**Import Libraries**"
      ]
    },
    {
      "cell_type": "code",
      "metadata": {
        "id": "eolpouohirpe"
      },
      "source": [
        "import numpy as np \n",
        "import pandas as pd \n",
        "from sklearn import datasets\n",
        "from sklearn.cluster import KMeans\n",
        "import matplotlib.pyplot as plt"
      ],
      "execution_count": 1,
      "outputs": []
    },
    {
      "cell_type": "markdown",
      "metadata": {
        "id": "BT488r1OizJG"
      },
      "source": [
        "**Prepare Data**"
      ]
    },
    {
      "cell_type": "code",
      "metadata": {
        "colab": {
          "base_uri": "https://localhost:8080/"
        },
        "id": "9U45W4oQi3GV",
        "outputId": "9ee9c4ec-8175-4122-e100-6ed55041733b"
      },
      "source": [
        "dataset=datasets.load_breast_cancer()\n",
        "dataset\n",
        "\n",
        "print(dataset.data.shape)\n",
        "print(dataset.target.shape)"
      ],
      "execution_count": 2,
      "outputs": [
        {
          "output_type": "stream",
          "name": "stdout",
          "text": [
            "(569, 30)\n",
            "(569,)\n"
          ]
        }
      ]
    },
    {
      "cell_type": "markdown",
      "metadata": {
        "id": "0a557Vnti7sN"
      },
      "source": [
        "**K-Mean Model**"
      ]
    },
    {
      "cell_type": "code",
      "metadata": {
        "colab": {
          "base_uri": "https://localhost:8080/"
        },
        "id": "YJoFmKZ0i9TM",
        "outputId": "5052e21b-7316-46e1-be3f-1228bed545fc"
      },
      "source": [
        "kmeans = KMeans(n_clusters=10, random_state=115)\n",
        "prediction = kmeans.fit_predict(dataset.data)\n",
        "print(prediction)\n",
        "\n",
        "kmeans.cluster_centers_.shape\n",
        "print(kmeans.cluster_centers_)"
      ],
      "execution_count": 8,
      "outputs": [
        {
          "output_type": "stream",
          "name": "stdout",
          "text": [
            "[5 5 1 0 1 7 1 7 7 7 3 6 6 3 7 3 3 6 9 7 0 4 3 9 5 6 7 6 6 6 1 7 6 5 6 6 7\n",
            " 0 7 7 7 0 1 7 7 1 4 7 0 7 0 7 0 6 3 0 5 3 0 4 4 4 3 4 7 3 4 0 4 0 5 4 1 7\n",
            " 0 6 0 1 1 0 0 0 2 6 0 1 7 1 0 7 7 7 7 7 3 5 0 4 0 7 7 4 0 4 4 7 0 0 9 0 4\n",
            " 0 7 4 4 0 4 3 6 6 0 1 9 7 0 7 7 1 7 1 0 3 6 3 1 0 0 0 3 4 4 6 0 0 4 0 0 7\n",
            " 7 7 0 4 4 4 7 0 6 3 0 0 0 1 9 0 9 7 4 6 1 7 0 3 3 4 4 4 4 3 0 0 2 5 6 0 3\n",
            " 4 6 0 0 0 7 0 4 7 7 0 7 6 1 3 0 6 9 3 0 3 4 6 0 3 1 0 2 3 7 7 0 4 5 9 7 7\n",
            " 4 3 7 7 4 7 0 7 6 0 0 5 4 7 2 5 7 6 7 0 0 7 1 4 0 0 4 0 5 0 5 6 5 7 5 3 6\n",
            " 3 5 6 6 3 6 2 4 7 0 4 7 0 9 4 6 0 0 6 7 7 1 0 1 3 0 0 0 0 4 0 7 7 0 0 0 7\n",
            " 4 0 7 4 5 0 1 4 0 0 0 4 7 7 0 7 0 0 4 0 0 1 4 0 4 1 0 5 0 0 7 0 3 3 3 0 4\n",
            " 0 0 6 0 5 4 2 7 4 4 1 0 4 0 7 0 0 0 3 2 3 0 0 0 7 4 4 0 0 0 3 7 5 1 0 2 9\n",
            " 6 7 1 5 7 3 4 7 7 0 0 4 0 0 0 7 0 7 0 6 4 4 6 9 0 7 7 0 0 0 6 0 0 0 0 0 3\n",
            " 0 6 0 0 0 4 7 3 0 4 1 0 0 0 7 0 7 4 4 4 0 4 0 7 0 1 1 7 7 0 7 7 7 0 6 7 4\n",
            " 6 0 6 7 7 5 0 1 0 7 0 7 0 0 0 4 1 8 7 0 7 7 7 4 6 0 4 0 3 0 4 0 7 7 0 3 0\n",
            " 7 7 7 3 0 7 1 0 3 0 6 6 0 0 7 0 0 1 5 7 7 0 2 4 4 0 4 3 3 0 7 7 7 3 0 1 1\n",
            " 0 0 4 2 4 7 4 4 7 0 7 0 0 0 7 1 4 5 7 0 4 4 0 7 7 0 7 7 4 4 4 0 4 4 0 4 0\n",
            " 4 4 4 7 0 7 4 3 5 9 1 3 5 4]\n",
            "[[1.21455932e+01 1.81380226e+01 7.80731638e+01 4.54409605e+02\n",
            "  9.29466102e-02 7.94957062e-02 4.50697271e-02 2.58724633e-02\n",
            "  1.74355367e-01 6.23671751e-02 2.76933333e-01 1.19986271e+00\n",
            "  1.96683559e+00 2.05246328e+01 6.80219209e-03 2.03920169e-02\n",
            "  2.39684441e-02 9.61710734e-03 2.03990395e-02 3.30623446e-03\n",
            "  1.34072316e+01 2.42203955e+01 8.71858757e+01 5.49828814e+02\n",
            "  1.26831299e-01 1.92067401e-01 1.75194616e-01 7.76532260e-02\n",
            "  2.78178531e-01 7.95596045e-02]\n",
            " [1.91125641e+01 2.13915385e+01 1.26166667e+02 1.13710256e+03\n",
            "  1.00631538e-01 1.44869744e-01 1.71290000e-01 9.79474359e-02\n",
            "  1.94587179e-01 6.03153846e-02 7.09964103e-01 1.25782821e+00\n",
            "  4.92356410e+00 8.55392308e+01 6.87564103e-03 3.26800000e-02\n",
            "  4.45628205e-02 1.63343077e-02 2.29020513e-02 3.91266667e-03\n",
            "  2.29733333e+01 2.84253846e+01 1.52948718e+02 1.61000000e+03\n",
            "  1.39420513e-01 3.46105128e-01 4.41274359e-01 1.85256410e-01\n",
            "  3.19161538e-01 8.50241026e-02]\n",
            " [2.43160000e+01 2.23750000e+01 1.61910000e+02 1.85420000e+03\n",
            "  1.03174000e-01 1.68032000e-01 2.35580000e-01 1.40631000e-01\n",
            "  1.79210000e-01 5.89640000e-02 1.23297000e+00 1.14835000e+00\n",
            "  8.82800000e+00 1.99120000e+02 6.61970000e-03 2.92370000e-02\n",
            "  3.93590000e-02 1.50810000e-02 1.95370000e-02 3.44310000e-03\n",
            "  3.09990000e+01 2.98160000e+01 2.08940000e+02 2.93600000e+03\n",
            "  1.40180000e-01 3.64520000e-01 4.68620000e-01 2.28060000e-01\n",
            "  2.76880000e-01 8.10070000e-02]\n",
            " [1.55076596e+01 2.02889362e+01 1.01703617e+02 7.45085106e+02\n",
            "  1.01014255e-01 1.26042553e-01 1.25749787e-01 6.61974468e-02\n",
            "  1.85621277e-01 6.26174468e-02 3.96329787e-01 1.04854043e+00\n",
            "  2.78789362e+00 3.79165957e+01 6.79355319e-03 2.84824255e-02\n",
            "  3.86385106e-02 1.36298936e-02 1.91948085e-02 3.68908511e-03\n",
            "  1.80527660e+01 2.75795745e+01 1.19876596e+02 9.99189362e+02\n",
            "  1.42285957e-01 3.36148085e-01 3.97378723e-01 1.52794468e-01\n",
            "  3.14157447e-01 8.93785106e-02]\n",
            " [9.87515385e+00 1.78310989e+01 6.31275824e+01 2.99732967e+02\n",
            "  9.64635165e-02 8.09469231e-02 4.46973846e-02 1.89206154e-02\n",
            "  1.83812088e-01 6.83807692e-02 2.95191209e-01 1.51460549e+00\n",
            "  2.02103187e+00 1.79611868e+01 9.95848352e-03 2.56543407e-02\n",
            "  3.31990110e-02 1.02651538e-02 2.54141758e-02 4.97217582e-03\n",
            "  1.08238352e+01 2.29446154e+01 6.97957143e+01 3.58796703e+02\n",
            "  1.31465934e-01 1.64161758e-01 1.40192637e-01 5.34132967e-02\n",
            "  2.73173626e-01 8.52007692e-02]\n",
            " [1.99319231e+01 2.20330769e+01 1.31950000e+02 1.23710000e+03\n",
            "  1.01086538e-01 1.57223846e-01 1.83885000e-01 1.03358077e-01\n",
            "  1.92600000e-01 6.12934615e-02 7.24403846e-01 1.02957308e+00\n",
            "  5.06257692e+00 9.20784615e+01 5.94592308e-03 3.09096154e-02\n",
            "  4.11569231e-02 1.49783846e-02 1.77303846e-02 3.86411538e-03\n",
            "  2.50984615e+01 2.94969231e+01 1.67723077e+02 1.92269231e+03\n",
            "  1.43569231e-01 4.08057692e-01 4.97996154e-01 2.08269231e-01\n",
            "  3.22396154e-01 9.20384615e-02]\n",
            " [1.72662222e+01 2.12826667e+01 1.13766667e+02 9.30031111e+02\n",
            "  9.96044444e-02 1.34278667e-01 1.40752222e-01 8.17808889e-02\n",
            "  1.90786667e-01 6.09995556e-02 5.76202222e-01 1.28895333e+00\n",
            "  4.13328889e+00 6.30108889e+01 6.40597778e-03 3.02990444e-02\n",
            "  3.75984444e-02 1.49950444e-02 2.00477778e-02 4.04933333e-03\n",
            "  2.05342222e+01 2.85542222e+01 1.36617778e+02 1.29620000e+03\n",
            "  1.38425333e-01 3.23276889e-01 3.89095556e-01 1.69770444e-01\n",
            "  3.12826667e-01 8.54171111e-02]\n",
            " [1.39659504e+01 1.90276860e+01 9.06880165e+01 6.02476860e+02\n",
            "  9.40809091e-02 1.01344711e-01 7.52669174e-02 4.20422479e-02\n",
            "  1.75569421e-01 6.17116529e-02 3.12926446e-01 1.07821405e+00\n",
            "  2.26504876e+00 2.71022314e+01 5.80057851e-03 2.43026281e-02\n",
            "  2.83313223e-02 1.12062562e-02 1.78177851e-02 3.50322149e-03\n",
            "  1.57508264e+01 2.55277686e+01 1.04067107e+02 7.61435537e+02\n",
            "  1.28438926e-01 2.66982975e-01 2.69127851e-01 1.14544628e-01\n",
            "  2.85159504e-01 8.48681818e-02]\n",
            " [2.74200000e+01 2.62700000e+01 1.86900000e+02 2.50100000e+03\n",
            "  1.08400000e-01 1.98800000e-01 3.63500000e-01 1.68900000e-01\n",
            "  2.06100000e-01 5.62300000e-02 2.54700000e+00 1.30600000e+00\n",
            "  1.86500000e+01 5.42200000e+02 7.65000000e-03 5.37400000e-02\n",
            "  8.05500000e-02 2.59800000e-02 1.69700000e-02 4.55800000e-03\n",
            "  3.60400000e+01 3.13700000e+01 2.51200000e+02 4.25400000e+03\n",
            "  1.35700000e-01 4.25600000e-01 6.83300000e-01 2.62500000e-01\n",
            "  2.64100000e-01 7.42700000e-02]\n",
            " [2.16750000e+01 2.26625000e+01 1.44733333e+02 1.46675000e+03\n",
            "  1.07715833e-01 1.73916667e-01 2.45833333e-01 1.31065833e-01\n",
            "  1.95425000e-01 6.02741667e-02 9.03566667e-01 1.31857500e+00\n",
            "  6.42233333e+00 1.27005000e+02 7.50666667e-03 4.05083333e-02\n",
            "  5.54833333e-02 1.67533333e-02 1.98733333e-02 4.17350000e-03\n",
            "  2.71833333e+01 3.00241667e+01 1.83983333e+02 2.27191667e+03\n",
            "  1.44983333e-01 4.09366667e-01 5.69216667e-01 2.28475000e-01\n",
            "  3.12266667e-01 8.52466667e-02]]\n"
          ]
        }
      ]
    },
    {
      "cell_type": "markdown",
      "metadata": {
        "id": "XdoRqslcjCj5"
      },
      "source": [
        "**Scatter plot of the data points**"
      ]
    },
    {
      "cell_type": "code",
      "metadata": {
        "colab": {
          "base_uri": "https://localhost:8080/",
          "height": 197
        },
        "id": "ewLP36Y1jD2o",
        "outputId": "a35f4cbc-5542-41ce-c942-f67268ea5508"
      },
      "source": [
        "# Scatter plot of the data points\n",
        "import matplotlib.pyplot as plt\n",
        "fig, ax = plt.subplots(2, 5, figsize=(8, 3))\n",
        "centers = kmeans.cluster_centers_.reshape(10, 6, 5)\n",
        "for axi, center in zip(ax.flat, centers):\n",
        "  axi.set(xticks=[], yticks=[])\n",
        "  axi.imshow(center, interpolation='nearest', cmap=plt.cm.binary)"
      ],
      "execution_count": 9,
      "outputs": [
        {
          "output_type": "display_data",
          "data": {
            "image/png": "[encoded data removed]",
            "text/plain": [
              "<Figure size 576x216 with 10 Axes>"
            ]
          },
          "metadata": {}
        }
      ]
    },
    {
      "cell_type": "code",
      "metadata": {
        "id": "V5XxdP-WjHwQ"
      },
      "source": [
        "import numpy as np\n",
        "from scipy.stats import mode\n",
        "labels = np.zeros_like(prediction)\n",
        "for i in range(10):\n",
        "  mask = (prediction == i)\n",
        "  labels[mask] = mode(dataset.target[mask])[0]"
      ],
      "execution_count": 10,
      "outputs": []
    },
    {
      "cell_type": "code",
      "metadata": {
        "colab": {
          "base_uri": "https://localhost:8080/"
        },
        "id": "q62J9VrejKxL",
        "outputId": "c7926888-7445-488e-82c9-69bb71d07052"
      },
      "source": [
        "from sklearn.metrics import accuracy_score\n",
        "accuracy_score(dataset.target, labels)"
      ],
      "execution_count": 11,
      "outputs": [
        {
          "output_type": "execute_result",
          "data": {
            "text/plain": [
              "0.9086115992970123"
            ]
          },
          "metadata": {},
          "execution_count": 11
        }
      ]
    },
    {
      "cell_type": "code",
      "metadata": {
        "colab": {
          "base_uri": "https://localhost:8080/",
          "height": 279
        },
        "id": "aJ9Dh7dkjOLA",
        "outputId": "3c38e50a-b854-4f7a-e41b-83d2659e4ac4"
      },
      "source": [
        "from sklearn.metrics import confusion_matrix\n",
        "import seaborn as sns\n",
        "mat = confusion_matrix(dataset.target, labels)\n",
        "ax = sns.heatmap(mat.T, square=True, annot=True, fmt='d', cbar=False,xticklabels=dataset.target_names,yticklabels=dataset.target_names)\n",
        "\n",
        "#ax.set_ylim(10,10)\n",
        "plt.xlabel('true label')\n",
        "plt.ylabel('predicted label');"
      ],
      "execution_count": 12,
      "outputs": [
        {
          "output_type": "display_data",
          "data": {
            "image/png": "[encoded data removed]",
            "text/plain": [
              "<Figure size 432x288 with 1 Axes>"
            ]
          },
          "metadata": {
            "needs_background": "light"
          }
        }
      ]
    }
  ]
}
{
  "nbformat": 4,
  "nbformat_minor": 0,
  "metadata": {
    "colab": {
      "name": "115_Lab3.ipynb",
      "provenance": [],
      "collapsed_sections": [],
      "include_colab_link": true
    },
    "kernelspec": {
      "name": "python3",
      "display_name": "Python 3"
    },
    "language_info": {
      "name": "python"
    }
  },
  "cells": [
    {
      "cell_type": "markdown",
      "metadata": {
        "id": "view-in-github",
        "colab_type": "text"
      },
      "source": [
        "<a href=\"https://colab.research.google.com/github/utsavraychura11/115_UtsavRaychura_ML/blob/main/Lab3/115_Lab3.ipynb\" target=\"_parent\"><img src=\"https://colab.research.google.com/assets/colab-badge.svg\" alt=\"Open In Colab\"/></a>"
      ]
    },
    {
      "cell_type": "code",
      "metadata": {
        "id": "mZlrZ7YvVixk",
        "colab": {
          "base_uri": "https://localhost:8080/"
        },
        "outputId": "5fb3a3c1-50d4-422c-9ac0-2042c49e3b1a"
      },
      "source": [
        "from google.colab import drive\n",
        "drive.mount('/content/drive')"
      ],
      "execution_count": 1,
      "outputs": [
        {
          "output_type": "stream",
          "text": [
            "Mounted at /content/drive\n"
          ],
          "name": "stdout"
        }
      ]
    },
    {
      "cell_type": "markdown",
      "metadata": {
        "id": "u5OKuVetqS1Q"
      },
      "source": [
        "Task 1 :- Try the algo on Dataset3 - OneHotEncoding of features : and train test division 85% - 15%."
      ]
    },
    {
      "cell_type": "code",
      "metadata": {
        "id": "c-oVuubDqfsj"
      },
      "source": [
        "import numpy as np\n",
        "import pandas as pd\n",
        "from sklearn import datasets, preprocessing\n",
        "from sklearn.naive_bayes import GaussianNB, MultinomialNB\n",
        "\n",
        "dataset = pd.read_csv('/content/drive/My Drive/Colab Notebooks/ML/Lab3/Dataset3.csv')"
      ],
      "execution_count": 3,
      "outputs": []
    },
    {
      "cell_type": "code",
      "metadata": {
        "colab": {
          "base_uri": "https://localhost:8080/"
        },
        "id": "U0Yju7gz8u1i",
        "outputId": "15a64c80-b01f-4df8-ca80-c8a54e7fea63"
      },
      "source": [
        "label_encoder = preprocessing.LabelEncoder()\n",
        "yrows = None\n",
        "for data_heading in dataset:\n",
        "  # print(data_heading)\n",
        "  if (data_heading != 'Class') :\n",
        "    print(f'\\n\\nHeading  :-  {data_heading}')\n",
        "    dummy = pd.get_dummies(dataset[data_heading])\n",
        "    dataset = dataset.drop([data_heading], axis = 1)\n",
        "    dataset = pd.concat([dataset, dummy], axis = 1)\n",
        "  else:\n",
        "    yrows = label_encoder.fit_transform(dataset[data_heading])\n",
        "    dataset = dataset.drop([data_heading], axis = 1)"
      ],
      "execution_count": 4,
      "outputs": [
        {
          "output_type": "stream",
          "text": [
            "\n",
            "\n",
            "Heading  :-  Outlook\n",
            "\n",
            "\n",
            "Heading  :-  Temp\n",
            "\n",
            "\n",
            "Heading  :-  Wind\n",
            "\n",
            "\n",
            "Heading  :-  Humidity\n"
          ],
          "name": "stdout"
        }
      ]
    },
    {
      "cell_type": "code",
      "metadata": {
        "colab": {
          "base_uri": "https://localhost:8080/"
        },
        "id": "MhAzQsY59A5k",
        "outputId": "1ddb9b0a-5dfc-4fce-cd76-a97277d66e25"
      },
      "source": [
        "print(dataset, yrows)"
      ],
      "execution_count": null,
      "outputs": [
        {
          "output_type": "stream",
          "text": [
            "    O  R  S  C  H  M  F  T  High  Low  Normal\n",
            "0   0  1  0  0  1  0  1  0     0    0       1\n",
            "1   0  1  0  0  1  0  0  1     1    0       0\n",
            "2   1  0  0  0  1  0  1  0     0    0       1\n",
            "3   0  0  1  0  0  1  1  0     0    0       1\n",
            "4   0  0  1  0  0  1  1  0     0    0       1\n",
            "5   0  0  1  0  0  1  0  1     0    1       0\n",
            "6   1  0  0  1  0  0  0  1     0    0       1\n",
            "7   0  1  0  1  0  0  1  0     0    0       1\n",
            "8   0  1  0  1  0  0  1  0     0    1       0\n",
            "9   0  0  1  0  0  1  1  0     1    0       0\n",
            "10  0  1  0  0  0  1  0  1     1    0       0\n",
            "11  1  0  0  0  0  1  0  1     0    1       0\n",
            "12  1  0  0  0  1  0  1  0     0    0       1\n",
            "13  0  0  1  0  0  1  0  1     0    0       1 [0 0 1 0 1 1 1 1 1 1 1 1 1 0]\n"
          ],
          "name": "stdout"
        }
      ]
    },
    {
      "cell_type": "code",
      "metadata": {
        "id": "epQjdNCy9FrJ"
      },
      "source": [
        "from sklearn.model_selection import train_test_split\n",
        "\n",
        "xtrain, xtest, ytrain, ytest = train_test_split(dataset, yrows, test_size = 0.15, random_state = 115)"
      ],
      "execution_count": 5,
      "outputs": []
    },
    {
      "cell_type": "code",
      "metadata": {
        "colab": {
          "base_uri": "https://localhost:8080/"
        },
        "id": "BbOWjJw_9YC4",
        "outputId": "ba97e2b6-b1f6-4e36-8d7c-a5a52a26625a"
      },
      "source": [
        "model = MultinomialNB()\n",
        "model.fit(xtrain, ytrain)\n",
        "\n",
        "y_predicted = model.predict(xtest)\n",
        "print(xtest)\n",
        "print('\\n', y_predicted)"
      ],
      "execution_count": 8,
      "outputs": [
        {
          "output_type": "stream",
          "text": [
            "    O  R  S  C  H  M  F  T  0  1  2\n",
            "9   0  0  1  0  0  1  1  0  0  0  1\n",
            "8   1  0  0  1  0  0  1  0  1  0  0\n",
            "11  1  0  0  0  0  1  0  1  1  0  0\n",
            "\n",
            " [0 1 0]\n"
          ],
          "name": "stdout"
        }
      ]
    },
    {
      "cell_type": "code",
      "metadata": {
        "colab": {
          "base_uri": "https://localhost:8080/"
        },
        "id": "hPj7G4OP9xnw",
        "outputId": "d82994c5-2562-4c35-904c-d0f077e39a47"
      },
      "source": [
        "from sklearn import metrics\n",
        "from sklearn.metrics import precision_score\n",
        "from sklearn.metrics import recall_score\n",
        "\n",
        "print(f'Accuracy is  :-  {metrics.accuracy_score(ytest, y_predicted)}')\n",
        "\n",
        "#precision and recall\n",
        "precision = precision_score(ytest, y_predicted)\n",
        "recall = recall_score(ytest, y_predicted)\n",
        "print(f'Precision  :-  {precision}')\n",
        "print(f'Recall  :-  {recall}')"
      ],
      "execution_count": 9,
      "outputs": [
        {
          "output_type": "stream",
          "text": [
            "Accuracy is  :-  0.3333333333333333\n",
            "Precision  :-  1.0\n",
            "Recall  :-  0.3333333333333333\n"
          ],
          "name": "stdout"
        }
      ]
    },
    {
      "cell_type": "code",
      "metadata": {
        "id": "JkCwDICz-oV2",
        "colab": {
          "base_uri": "https://localhost:8080/"
        },
        "outputId": "bdd37732-ca3e-43e7-dc1f-0f4d7099dbd4"
      },
      "source": [
        "#Task1\n",
        "\n",
        "#Outlook(O, R, S) = Rainy, Temp(C, H, M) = Mild, Humidity(high, low, normal) = Normal, Wind(F, T) = False\n",
        "output = model.predict([[0,1,0, 0,0,1, 0,0,1, 1,0]])\n",
        "print('Prediction  :-   ', output)\n",
        "\n",
        "#Sunny, Cool, High, True\n",
        "output = model.predict([[0,0,1, 1,0,0, 1,0,0, 0,1]])\n",
        "print('Prediction  :-  ', output)"
      ],
      "execution_count": 10,
      "outputs": [
        {
          "output_type": "stream",
          "text": [
            "Prediction  :-    [0]\n",
            "Prediction  :-   [0]\n"
          ],
          "name": "stdout"
        }
      ]
    },
    {
      "cell_type": "markdown",
      "metadata": {
        "id": "37Ax4jdSxDxF"
      },
      "source": [
        ""
      ]
    },
    {
      "cell_type": "markdown",
      "metadata": {
        "id": "eCE88nTZqgeX"
      },
      "source": [
        "Task 2 :- Apply algorithm on wine dataset - LabelEncoding of features: and train test division 66% - 34% ."
      ]
    },
    {
      "cell_type": "code",
      "metadata": {
        "colab": {
          "base_uri": "https://localhost:8080/"
        },
        "id": "XnuOdeRFquip",
        "outputId": "d1f8fd9d-89a8-468e-87fa-80f2e90da769"
      },
      "source": [
        "from sklearn import preprocessing\n",
        "from sklearn.naive_bayes import GaussianNB\n",
        "from sklearn.datasets import load_wine\n",
        "\n",
        "wine_data = load_wine()\n",
        "print('Features : \\n', wine_data.feature_names)\n",
        "print('\\nLabels : \\n', wine_data.target_names)\n",
        "wine_data.data.shape"
      ],
      "execution_count": 11,
      "outputs": [
        {
          "output_type": "stream",
          "text": [
            "Features : \n",
            " ['alcohol', 'malic_acid', 'ash', 'alcalinity_of_ash', 'magnesium', 'total_phenols', 'flavanoids', 'nonflavanoid_phenols', 'proanthocyanins', 'color_intensity', 'hue', 'od280/od315_of_diluted_wines', 'proline']\n",
            "\n",
            "Labels : \n",
            " ['class_0' 'class_1' 'class_2']\n"
          ],
          "name": "stdout"
        },
        {
          "output_type": "execute_result",
          "data": {
            "text/plain": [
              "(178, 13)"
            ]
          },
          "metadata": {
            "tags": []
          },
          "execution_count": 11
        }
      ]
    },
    {
      "cell_type": "code",
      "metadata": {
        "id": "hLQbLeturjsB"
      },
      "source": [
        "from sklearn.model_selection import train_test_split\n",
        "\n",
        "data_train, data_test, target_train, target_test = train_test_split(wine_data.data, wine_data.target, test_size = 0.34, random_state = 115)"
      ],
      "execution_count": 12,
      "outputs": []
    },
    {
      "cell_type": "code",
      "metadata": {
        "id": "mK12_a8rr9vi"
      },
      "source": [
        "import numpy as np\n",
        "gnb = GaussianNB()\n",
        "\n",
        "gnb.fit(data_train, target_train)   #train the model using training sets\n",
        "target_prediction = gnb.predict(data_test)  #predict the response of test dataset"
      ],
      "execution_count": 14,
      "outputs": []
    },
    {
      "cell_type": "code",
      "metadata": {
        "colab": {
          "base_uri": "https://localhost:8080/"
        },
        "id": "h7GpGDbYsa1j",
        "outputId": "7922945e-55d2-42d6-b48b-a45321cb59d9"
      },
      "source": [
        "from sklearn import metrics\n",
        "\n",
        "print('Accuracy of model  :  ', metrics.accuracy_score(target_test, target_prediction))"
      ],
      "execution_count": 15,
      "outputs": [
        {
          "output_type": "stream",
          "text": [
            "Accuracy of model  :   0.9672131147540983\n"
          ],
          "name": "stdout"
        }
      ]
    },
    {
      "cell_type": "code",
      "metadata": {
        "colab": {
          "base_uri": "https://localhost:8080/"
        },
        "id": "0W3wS8TUszwP",
        "outputId": "009c3331-3a99-44a8-936a-e953d190f589"
      },
      "source": [
        "from sklearn.metrics import confusion_matrix\n",
        "confusion_matrix(target_test, target_prediction)"
      ],
      "execution_count": 16,
      "outputs": [
        {
          "output_type": "execute_result",
          "data": {
            "text/plain": [
              "array([[22,  1,  0],\n",
              "       [ 0, 21,  1],\n",
              "       [ 0,  0, 16]])"
            ]
          },
          "metadata": {
            "tags": []
          },
          "execution_count": 16
        }
      ]
    },
    {
      "cell_type": "code",
      "metadata": {
        "colab": {
          "base_uri": "https://localhost:8080/"
        },
        "id": "fNui1WKQtKLb",
        "outputId": "35bba7ce-363c-4529-b355-28fe144ade02"
      },
      "source": [
        "from sklearn.metrics import precision_score\n",
        "from sklearn.metrics import recall_score\n",
        "\n",
        "precision = precision_score(target_test, target_prediction, average = None)\n",
        "recall = recall_score(target_test, target_prediction, average = None)\n",
        "\n",
        "print('Precision  :  {}'.format(precision))\n",
        "print('\\n\\nRecall  :  {}'.format(recall))"
      ],
      "execution_count": 17,
      "outputs": [
        {
          "output_type": "stream",
          "text": [
            "Precision  :  [1.         0.95454545 0.94117647]\n",
            "\n",
            "\n",
            "Recall  :  [0.95652174 0.95454545 1.        ]\n"
          ],
          "name": "stdout"
        }
      ]
    }
  ]
}
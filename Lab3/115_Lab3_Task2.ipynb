{
  "nbformat": 4,
  "nbformat_minor": 0,
  "metadata": {
    "colab": {
      "name": "115_Lab3_Task2.ipynb",
      "provenance": []
    },
    "kernelspec": {
      "name": "python3",
      "display_name": "Python 3"
    },
    "language_info": {
      "name": "python"
    }
  },
  "cells": [
    {
      "cell_type": "markdown",
      "metadata": {
        "id": "fgoe3h1S3RLz"
      },
      "source": [
        "**Task 2:** Apply algorithm on wine dataset - LabelEncoding of features: and Train test Division 66%-34%."
      ]
    },
    {
      "cell_type": "code",
      "metadata": {
        "id": "3t1D5NEF5ozR"
      },
      "source": [
        "#Import necessary libraries\n",
        "import numpy as np \n",
        "import pandas as pd\n",
        "from sklearn import preprocessing\n",
        "from sklearn.naive_bayes import GaussianNB, MultinomialNB"
      ],
      "execution_count": null,
      "outputs": []
    },
    {
      "cell_type": "code",
      "metadata": {
        "colab": {
          "base_uri": "https://localhost:8080/"
        },
        "id": "482Bzh_B6yOW",
        "outputId": "cedb1540-db9b-4ba4-a88d-1e30d03ea495"
      },
      "source": [
        "from sklearn import preprocessing\n",
        "from sklearn.naive_bayes import GaussianNB\n",
        "from sklearn.datasets import load_wine\n",
        "\n",
        "wine_data = load_wine()\n",
        "print('Features : \\n', wine_data.feature_names)\n",
        "print('\\nLabels : \\n', wine_data.target_names)\n",
        "print(\"\\n\",wine_data.data.shape)\n",
        "print(wine_data.target.shape)"
      ],
      "execution_count": null,
      "outputs": [
        {
          "output_type": "stream",
          "name": "stdout",
          "text": [
            "Features : \n",
            " ['alcohol', 'malic_acid', 'ash', 'alcalinity_of_ash', 'magnesium', 'total_phenols', 'flavanoids', 'nonflavanoid_phenols', 'proanthocyanins', 'color_intensity', 'hue', 'od280/od315_of_diluted_wines', 'proline']\n",
            "\n",
            "Labels : \n",
            " ['class_0' 'class_1' 'class_2']\n",
            "\n",
            " (178, 13)\n",
            "(178,)\n"
          ]
        }
      ]
    },
    {
      "cell_type": "code",
      "metadata": {
        "id": "183b3qim-kZO"
      },
      "source": [
        "from sklearn.model_selection import train_test_split\n",
        "\n",
        "data_train, data_test, target_train, target_test = train_test_split(wine_data.data, wine_data.target, test_size = 0.34, random_state = 115)"
      ],
      "execution_count": null,
      "outputs": []
    },
    {
      "cell_type": "code",
      "metadata": {
        "id": "XvU5QxsE-vPF"
      },
      "source": [
        "import numpy as np\n",
        "gnb = GaussianNB()\n",
        "\n",
        "#train the model using training sets\n",
        "gnb.fit(data_train, target_train)  \n",
        "#predict the response of test dataset \n",
        "target_prediction = gnb.predict(data_test)  "
      ],
      "execution_count": null,
      "outputs": []
    },
    {
      "cell_type": "code",
      "metadata": {
        "colab": {
          "base_uri": "https://localhost:8080/"
        },
        "id": "21bs10cS-2_e",
        "outputId": "bec1d409-6010-434f-b62a-dade88d75923"
      },
      "source": [
        "from sklearn import metrics\n",
        "from sklearn.metrics import confusion_matrix\n",
        "from sklearn.metrics import precision_score\n",
        "from sklearn.metrics import recall_score\n",
        "\n",
        "print('Accuracy : ', metrics.accuracy_score(target_test, target_prediction))\n",
        "print('\\nConfusion Matrix: \\n',confusion_matrix(target_test, target_prediction))\n",
        "\n",
        "precision = precision_score(target_test, target_prediction, average = None)\n",
        "recall = recall_score(target_test, target_prediction, average = None)\n",
        "\n",
        "print('\\nPrecision: ',precision)\n",
        "print('\\nRecall: ',recall)"
      ],
      "execution_count": null,
      "outputs": [
        {
          "output_type": "stream",
          "name": "stdout",
          "text": [
            "Accuracy :  0.9672131147540983\n",
            "\n",
            "Confusion Matrix: \n",
            " [[22  1  0]\n",
            " [ 0 21  1]\n",
            " [ 0  0 16]]\n",
            "\n",
            "Precision:  [1.         0.95454545 0.94117647]\n",
            "\n",
            "Recall:  [0.95652174 0.95454545 1.        ]\n"
          ]
        }
      ]
    }
  ]
}